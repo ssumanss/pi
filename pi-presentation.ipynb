{
 "cells": [
  {
   "cell_type": "markdown",
   "id": "8f56de41",
   "metadata": {
    "slideshow": {
     "slide_type": "slide"
    }
   },
   "source": [
    "# $\\pi$\n",
    "\n",
    "\n",
    "\n",
    "## Sandeep Suman\n",
    "\n",
    "### University Department of Mathemtics, \n",
    "### TMBU, Bhagalpur "
   ]
  },
  {
   "cell_type": "markdown",
   "id": "2f161745",
   "metadata": {
    "slideshow": {
     "slide_type": "slide"
    }
   },
   "source": [
    "# Everyone knows $\\pi$\n",
    "\n",
    "The number $\\pi$ first encountered in school while calculating the perimeter and area of a circle. \n",
    "\n",
    "| Perimeter                |  Area                     |\n",
    "|--------------------------|---------------------------|\n",
    "|  $2\\pi\\times $ radius    | $\\pi \\times$ radius${}^2$ |\n",
    "\n",
    "\n",
    "<img width=\"400px\" src=\"https://www.cut-the-knot.org/blue/AreaOfCircle0.jpg\" alt=\"Alternative text\" />\n"
   ]
  },
  {
   "cell_type": "markdown",
   "id": "ea567fe9",
   "metadata": {
    "slideshow": {
     "slide_type": "slide"
    }
   },
   "source": [
    "\n",
    "# Note: The ratio of perimeter to diameter is constant.\n",
    "\n",
    "- Bigger Stone are heavy\n",
    "- Larger field has more crop \n",
    "- so on ...\n",
    "\n",
    "## Till 18th Century \n",
    "\n",
    "$$\\pi = C:D$$\n"
   ]
  },
  {
   "cell_type": "markdown",
   "id": "c479779f",
   "metadata": {
    "slideshow": {
     "slide_type": "slide"
    }
   },
   "source": [
    "# Early History \n",
    "\n",
    "## Babylonians (2000BC) \n",
    "\n",
    "$$\\pi = 3\\frac{1}{4} \\sim 3.25$$\n",
    "\n",
    "## Egyptian \n",
    "\n",
    "$$\\pi = 4\\left(\\frac{8}{9}\\right) \\sim 3.55\\overline{5}$$"
   ]
  },
  {
   "cell_type": "code",
   "execution_count": null,
   "id": "ee4a59c8",
   "metadata": {},
   "outputs": [],
   "source": []
  }
 ],
 "metadata": {
  "celltoolbar": "Slideshow",
  "kernelspec": {
   "display_name": "Python 3 (ipykernel)",
   "language": "python",
   "name": "python3"
  },
  "language_info": {
   "codemirror_mode": {
    "name": "ipython",
    "version": 3
   },
   "file_extension": ".py",
   "mimetype": "text/x-python",
   "name": "python",
   "nbconvert_exporter": "python",
   "pygments_lexer": "ipython3",
   "version": "3.11.0"
  }
 },
 "nbformat": 4,
 "nbformat_minor": 5
}
